{
 "cells": [
  {
   "cell_type": "code",
   "execution_count": 1,
   "metadata": {},
   "outputs": [],
   "source": [
    "import random\n",
    "import jsonlines\n",
    "import pandas as pd\n",
    "from pathlib import Path\n",
    "import os"
   ]
  },
  {
   "cell_type": "code",
   "execution_count": 2,
   "metadata": {},
   "outputs": [
    {
     "name": "stdout",
     "output_type": "stream",
     "text": [
      "Index(['id', 'NAME', 'host id', 'host_identity_verified', 'host name',\n",
      "       'neighbourhood group', 'neighbourhood', 'lat', 'long', 'country',\n",
      "       'country code', 'instant_bookable', 'cancellation_policy', 'room type',\n",
      "       'Construction year', 'price', 'service fee', 'minimum nights',\n",
      "       'number of reviews', 'last review', 'reviews per month',\n",
      "       'review rate number', 'calculated host listings count',\n",
      "       'availability 365', 'house_rules', 'license'],\n",
      "      dtype='object')\n"
     ]
    }
   ],
   "source": [
    "data_path = Path(os.getcwd()).parent.parent / \"data\"\n",
    "dtype = {\"license\": str}\n",
    "data = pd.read_csv(\n",
    "    data_path / \"raw_data\" / \"airbnb\" / \"Airbnb_Open_Data.csv\", dtype=dtype\n",
    ")\n",
    "print(data.columns)"
   ]
  },
  {
   "cell_type": "code",
   "execution_count": 3,
   "metadata": {},
   "outputs": [
    {
     "name": "stdout",
     "output_type": "stream",
     "text": [
      "286.0\n"
     ]
    }
   ],
   "source": [
    "print(data.iloc[0]['availability 365'])"
   ]
  },
  {
   "cell_type": "code",
   "execution_count": 20,
   "metadata": {},
   "outputs": [],
   "source": [
    "num_questions_per_template = 25\n",
    "question_id = 0\n",
    "questions = []"
   ]
  },
  {
   "cell_type": "code",
   "execution_count": 21,
   "metadata": {},
   "outputs": [
    {
     "name": "stdout",
     "output_type": "stream",
     "text": [
      "[{'oid': 27373661, 'qid': 'easy-airbnb-0015', 'question': \"What is the host's name for #4 Hotel-Like LOFT Private Room KING bed near JFK in Woodhaven?\", 'answer': 'David'}, {'oid': 1407277, 'qid': 'easy-airbnb-0016', 'question': \"What is the host's name for REAL 2BR-HEART OF SOHO-LITTLE ITALY in Little Italy?\", 'answer': 'Andrews'}, {'oid': 4580792, 'qid': 'easy-airbnb-0017', 'question': \"What is the host's name for Charming brownstone in Bedford-Stuyvesant?\", 'answer': 'Caylah'}, {'oid': 16177435, 'qid': 'easy-airbnb-0018', 'question': \"What is the host's name for PRIVATE ROOM with OWN BATHROOM in Astoria Apt in Astoria?\", 'answer': 'Jeannie'}, {'oid': 34112273, 'qid': 'easy-airbnb-0019', 'question': \"What is the host's name for Convenient Small Room, a Cozy Stay in Brooklyn. #4 in Canarsie?\", 'answer': 'Chemaly'}, {'oid': 2935491, 'qid': 'easy-airbnb-0020', 'question': \"What is the host's name for Modern & Artsy, Awesome Location in Williamsburg?\", 'answer': 'Enrique'}, {'oid': 26550734, 'qid': 'easy-airbnb-0021', 'question': \"What is the host's name for Luxury Apt very close to public transport in East Harlem?\", 'answer': 'Darlene'}, {'oid': 3825246, 'qid': 'easy-airbnb-0022', 'question': \"What is the host's name for Modern Harlem Flat in Harlem?\", 'answer': 'Joshua'}, {'oid': 36587682, 'qid': 'easy-airbnb-0023', 'question': \"What is the host's name for One bedroom in share apartment in Astoria queens in Astoria?\", 'answer': 'Loubna'}, {'oid': 3219373, 'qid': 'easy-airbnb-0024', 'question': \"What is the host's name for ENTIRE APT IN GORGEOUS PARK SLOPE in South Slope?\", 'answer': 'Elizabeth'}]\n"
     ]
    }
   ],
   "source": [
    "for _ in range(num_questions_per_template):\n",
    "    oid = \"\"\n",
    "    answer = \"\"\n",
    "    question = \"\"\n",
    "    while not answer:\n",
    "        random_index = random.randint(0, len(data) - 1)\n",
    "        row = data.iloc[random_index]\n",
    "        Name = row[\"NAME\"]\n",
    "        oid = int(row[\"id\"])\n",
    "        neighbourhood = row[\"neighbourhood\"]\n",
    "        question = f\"What is the host's name for {Name} in {neighbourhood}?\"\n",
    "        sub_table = data.loc[\n",
    "            (data[\"NAME\"] == Name) & (data[\"neighbourhood\"] == neighbourhood)\n",
    "        ]\n",
    "        answer = row[\"host name\"] if len(sub_table) == 1 else \"\"\n",
    "    questions.append(\n",
    "        {\n",
    "            \"oid\": oid,\n",
    "            \"qid\": \"easy-airbnb-{:0>4d}\".format(question_id),\n",
    "            \"question\": question,\n",
    "            \"answer\": answer,\n",
    "        }\n",
    "    )\n",
    "    question_id += 1\n",
    "print(questions[-10:])"
   ]
  },
  {
   "cell_type": "code",
   "execution_count": 22,
   "metadata": {},
   "outputs": [
    {
     "name": "stdout",
     "output_type": "stream",
     "text": [
      "25195390\n",
      "28258446\n",
      "47528193\n",
      "9088665\n",
      "31336414\n",
      "52555780\n",
      "22619463\n",
      "52413286\n",
      "6488989\n",
      "42507786\n",
      "31946705\n",
      "55663572\n",
      "54613097\n",
      "9358187\n",
      "33935537\n",
      "17971858\n",
      "23733452\n",
      "51037507\n",
      "28063484\n",
      "48321295\n",
      "7958107\n",
      "17036262\n",
      "10779808\n",
      "40060544\n",
      "7027481\n",
      "[{'oid': 17971858, 'qid': 'easy-airbnb-0040', 'question': 'How many days are Better than hotel whole apt next 2 MAIN ST Flushin (id: 17971858) available during a year (365 days)?', 'answer': '74'}, {'oid': 23733452, 'qid': 'easy-airbnb-0041', 'question': 'How many days are Cozy room next to subway! (id: 23733452) available during a year (365 days)?', 'answer': '0'}, {'oid': 51037507, 'qid': 'easy-airbnb-0042', 'question': 'How many days are Cozy Studio on Roosevelt Island (id: 51037507) available during a year (365 days)?', 'answer': '0'}, {'oid': 28063484, 'qid': 'easy-airbnb-0043', 'question': 'How many days are Furnished room  for rent in Bronx SINGLE FEMALE (id: 28063484) available during a year (365 days)?', 'answer': '190'}, {'oid': 48321295, 'qid': 'easy-airbnb-0044', 'question': 'How many days are Cozy One Bedroom Apartment in Astoria, NYC (id: 48321295) available during a year (365 days)?', 'answer': '10'}, {'oid': 7958107, 'qid': 'easy-airbnb-0045', 'question': 'How many days are Bright room in Williamsburg (id: 7958107) available during a year (365 days)?', 'answer': '62'}, {'oid': 17036262, 'qid': 'easy-airbnb-0046', 'question': 'How many days are Cute small one bedroom in Queens Woodside (id: 17036262) available during a year (365 days)?', 'answer': '1'}, {'oid': 10779808, 'qid': 'easy-airbnb-0047', 'question': 'How many days are Comfy 1 Bedroom in commercial East Flatbush (id: 10779808) available during a year (365 days)?', 'answer': '33'}, {'oid': 40060544, 'qid': 'easy-airbnb-0048', 'question': 'How many days are Large, Quiet, Sunny 1 Bedroom Condo Williamsburg (id: 40060544) available during a year (365 days)?', 'answer': '12'}, {'oid': 7027481, 'qid': 'easy-airbnb-0049', 'question': 'How many days are Apt on President St & Kingston Ave (id: 7027481) available during a year (365 days)?', 'answer': '10'}]\n"
     ]
    }
   ],
   "source": [
    "for _ in range(num_questions_per_template):\n",
    "    oid = \"\"\n",
    "    answer = \"\"\n",
    "    while not answer:\n",
    "        random_index = random.randint(0, len(data) - 1)\n",
    "        row = data.iloc[random_index]\n",
    "        Name = row[\"NAME\"]\n",
    "        print(row[\"id\"])\n",
    "        oid = int(row[\"id\"])\n",
    "        question = f'How many days are {Name} (id: {row[\"id\"]}) available during a year (365 days)?'\n",
    "        sub_table = data.loc[(data[\"NAME\"] == Name) & (data[\"id\"] == row[\"id\"])]\n",
    "        answer = str(int(row[\"availability 365\"])) if len(sub_table) == 1 else \"\"\n",
    "    questions.append(\n",
    "        {\n",
    "            \"oid\": oid,\n",
    "            \"qid\": \"easy-airbnb-{:0>4d}\".format(question_id),\n",
    "            \"question\": question,\n",
    "            \"answer\": answer,\n",
    "        }\n",
    "    )\n",
    "    question_id += 1\n",
    "print(questions[-10:])"
   ]
  },
  {
   "cell_type": "code",
   "execution_count": 23,
   "metadata": {},
   "outputs": [
    {
     "name": "stdout",
     "output_type": "stream",
     "text": [
      "[{'oid': 38870338, 'qid': 'easy-airbnb-0065', 'question': 'What is the room type of Marvelous Manhattan Marble Hill Private Suites (id: 38870338) in Marble Hill?', 'answer': 'Private room'}, {'oid': 31090640, 'qid': 'easy-airbnb-0066', 'question': 'What is the room type of High Floor River View w/ King Bed Hotel Room (id: 31090640) in Financial District?', 'answer': 'Private room'}, {'oid': 29445891, 'qid': 'easy-airbnb-0067', 'question': 'What is the room type of Designer Upper East side apartment Two entrances. (id: 29445891) in Upper East Side?', 'answer': 'Entire home/apt'}, {'oid': 13713073, 'qid': 'easy-airbnb-0068', 'question': 'What is the room type of Cute, spacious room in Crown Heights (id: 13713073) in Crown Heights?', 'answer': 'Private room'}, {'oid': 39213868, 'qid': 'easy-airbnb-0069', 'question': 'What is the room type of Cozy 2BR in Trendy LIC, 1 Stop From Manhattan (id: 39213868) in Long Island City?', 'answer': 'Entire home/apt'}, {'oid': 37743094, 'qid': 'easy-airbnb-0070', 'question': 'What is the room type of Large 1BR Apartment in Best LES Location (id: 37743094) in Lower East Side?', 'answer': 'Entire home/apt'}, {'oid': 42644204, 'qid': 'easy-airbnb-0071', 'question': \"What is the room type of Beautiful Cozy room in Hell’s Kitchen,Times Square (id: 42644204) in Hell's Kitchen?\", 'answer': 'Private room'}, {'oid': 51152938, 'qid': 'easy-airbnb-0072', 'question': 'What is the room type of Peaceful Bedroom with private balcony in LES (id: 51152938) in Lower East Side?', 'answer': 'Private room'}, {'oid': 36751163, 'qid': 'easy-airbnb-0073', 'question': 'What is the room type of Panoramic Water Views  |  Luxury building Studio (id: 36751163) in Financial District?', 'answer': 'Entire home/apt'}, {'oid': 7707363, 'qid': 'easy-airbnb-0074', 'question': 'What is the room type of Private Light-Filled 2-Room Space (id: 7707363) in Bedford-Stuyvesant?', 'answer': 'Entire home/apt'}]\n"
     ]
    }
   ],
   "source": [
    "for _ in range(num_questions_per_template):\n",
    "    oid = \"\"\n",
    "    answer = \"\"\n",
    "    while not answer:\n",
    "        random_index = random.randint(0, len(data) - 1)\n",
    "        row = data.iloc[random_index]\n",
    "        Name = row[\"NAME\"]\n",
    "        oid = int(row[\"id\"])\n",
    "        neighbourhood = row[\"neighbourhood\"]\n",
    "        question = (\n",
    "            f'What is the room type of {Name} (id: {row[\"id\"]}) in {neighbourhood}?'\n",
    "        )\n",
    "        sub_table = data.loc[\n",
    "            (data[\"NAME\"] == Name)\n",
    "            & (data[\"id\"] == row[\"id\"])\n",
    "            & (data[\"neighbourhood\"] == neighbourhood)\n",
    "        ]\n",
    "        answer = row[\"room type\"] if len(sub_table) == 1 else \"\"\n",
    "    questions.append(\n",
    "        {\n",
    "            \"oid\": oid,\n",
    "            \"qid\": \"easy-airbnb-{:0>4d}\".format(question_id),\n",
    "            \"question\": question,\n",
    "            \"answer\": answer,\n",
    "        }\n",
    "    )\n",
    "    question_id += 1\n",
    "print(questions[-10:])"
   ]
  },
  {
   "cell_type": "code",
   "execution_count": 24,
   "metadata": {},
   "outputs": [
    {
     "name": "stdout",
     "output_type": "stream",
     "text": [
      "[{'oid': 7932701, 'qid': 'easy-airbnb-0090', 'question': 'What is the price of Large 1 Bed Apartment East Village (id: 7932701) in East Village?', 'answer': '$1,003 '}, {'oid': 5058532, 'qid': 'easy-airbnb-0091', 'question': 'What is the price of *PIZZAZZ* Fantastic Studio Apartment-Upper East! (id: 5058532) in Upper East Side?', 'answer': '$826 '}, {'oid': 50132839, 'qid': 'easy-airbnb-0092', 'question': 'What is the price of 1Bdrm Deluxe WYNDHAM MIDTOWN 45*Great Location NYC (id: 50132839) in Midtown?', 'answer': '$477 '}, {'oid': 9872931, 'qid': 'easy-airbnb-0093', 'question': 'What is the price of Beautiful room in a spacious Brooklyn duplex (id: 9872931) in Windsor Terrace?', 'answer': '$147 '}, {'oid': 32971222, 'qid': 'easy-airbnb-0094', 'question': 'What is the price of Private Studio near Prospect Park (id: 32971222) in Prospect-Lefferts Gardens?', 'answer': '$1,055 '}, {'oid': 40884576, 'qid': 'easy-airbnb-0095', 'question': 'What is the price of Williamsburg Bedford Ave L Train (id: 40884576) in Williamsburg?', 'answer': '$153 '}, {'oid': 46121485, 'qid': 'easy-airbnb-0096', 'question': 'What is the price of One room in a beautiful two bedroom appartment (id: 46121485) in Williamsburg?', 'answer': '$560 '}, {'oid': 50785658, 'qid': 'easy-airbnb-0097', 'question': 'What is the price of Charming light-filled apartment in Crown Heights (id: 50785658) in Crown Heights?', 'answer': '$920 '}, {'oid': 18397129, 'qid': 'easy-airbnb-0098', 'question': 'What is the price of Private Modern Studio in heart of Flatbush (id: 18397129) in Midwood?', 'answer': '$50 '}, {'oid': 33800224, 'qid': 'easy-airbnb-0099', 'question': 'What is the price of Great private room in NYC 20 min to Manhattan (id: 33800224) in Sunnyside?', 'answer': '$831 '}]\n"
     ]
    }
   ],
   "source": [
    "for _ in range(num_questions_per_template):\n",
    "    oid = \"\"\n",
    "    answer = \"\"\n",
    "    while not answer:\n",
    "        random_index = random.randint(0, len(data) - 1)\n",
    "        row = data.iloc[random_index]\n",
    "        Name = row[\"NAME\"]\n",
    "        oid = int(row[\"id\"])\n",
    "        neighbourhood = row[\"neighbourhood\"]\n",
    "        question = f\"What is the price of {Name} (id: {row['id']}) in {neighbourhood}?\"\n",
    "        sub_table = data.loc[\n",
    "            (data[\"NAME\"] == Name)\n",
    "            & (data[\"id\"] == row[\"id\"])\n",
    "            & (data[\"neighbourhood\"] == neighbourhood)\n",
    "        ]\n",
    "        answer = row[\"price\"] if len(sub_table) == 1 else \"\"\n",
    "    questions.append(\n",
    "        {\n",
    "            \"oid\": oid,\n",
    "            \"qid\": \"easy-airbnb-{:0>4d}\".format(question_id),\n",
    "            \"question\": question,\n",
    "            \"answer\": answer,\n",
    "        }\n",
    "    )\n",
    "    question_id += 1\n",
    "print(questions[-10:])"
   ]
  },
  {
   "cell_type": "code",
   "execution_count": 25,
   "metadata": {},
   "outputs": [
    {
     "name": "stdout",
     "output_type": "stream",
     "text": [
      "[{'oid': 49329243, 'qid': 'easy-airbnb-0115', 'question': 'What is the minimum number of nights of Cozy, quiet 1 bdrm centrally located (id: 49329243) in Crown Heights?', 'answer': '2'}, {'oid': 27225645, 'qid': 'easy-airbnb-0116', 'question': 'What is the minimum number of nights of Charming & Stylish Home in Chelsea (id: 27225645) in Chelsea?', 'answer': '5'}, {'oid': 52513805, 'qid': 'easy-airbnb-0117', 'question': 'What is the minimum number of nights of Spacious 1BR Apartment (id: 52513805) in Williamsburg?', 'answer': '6'}, {'oid': 41122065, 'qid': 'easy-airbnb-0118', 'question': 'What is the minimum number of nights of Caribbean Retreat in the heart of Brooklyn (id: 41122065) in East Flatbush?', 'answer': '2'}, {'oid': 9136163, 'qid': 'easy-airbnb-0119', 'question': 'What is the minimum number of nights of 3 Bedroom, family ready, in Harlem (id: 9136163) in Harlem?', 'answer': '1'}, {'oid': 32967908, 'qid': 'easy-airbnb-0120', 'question': 'What is the minimum number of nights of Clinton Hill Oversized One Bedroom (id: 32967908) in Clinton Hill?', 'answer': '30'}, {'oid': 6119500, 'qid': 'easy-airbnb-0121', 'question': 'What is the minimum number of nights of Renovated W. Village 2 bed 2 bath (id: 6119500) in West Village?', 'answer': '1'}, {'oid': 17744863, 'qid': 'easy-airbnb-0122', 'question': 'What is the minimum number of nights of Bright Bushwick Apartment with City Views! (id: 17744863) in Bushwick?', 'answer': '2'}, {'oid': 10626820, 'qid': 'easy-airbnb-0123', 'question': 'What is the minimum number of nights of Beautiful place (id: 10626820) in Canarsie?', 'answer': '1'}, {'oid': 55547589, 'qid': 'easy-airbnb-0124', 'question': 'What is the minimum number of nights of Two-Story 2BR/2BA East Village Apartment! (id: 55547589) in East Village?', 'answer': '3'}]\n"
     ]
    }
   ],
   "source": [
    "for _ in range(num_questions_per_template):\n",
    "    oid = \"\"\n",
    "    answer = \"\"\n",
    "    while not answer:\n",
    "        random_index = random.randint(0, len(data) - 1)\n",
    "        row = data.iloc[random_index]\n",
    "        Name = row[\"NAME\"]\n",
    "        oid = int(row[\"id\"])\n",
    "        neighbourhood = row[\"neighbourhood\"]\n",
    "        question = f\"What is the minimum number of nights of {Name} (id: {row['id']}) in {neighbourhood}?\"\n",
    "        sub_table = data.loc[\n",
    "            (data[\"NAME\"] == Name)\n",
    "            & (data[\"id\"] == row[\"id\"])\n",
    "            & (data[\"neighbourhood\"] == neighbourhood)\n",
    "        ]\n",
    "        answer = str(int(row[\"minimum nights\"])) if len(sub_table) == 1 else \"\"\n",
    "    questions.append(\n",
    "        {\n",
    "            \"oid\": oid,\n",
    "            \"qid\": \"easy-airbnb-{:0>4d}\".format(question_id),\n",
    "            \"question\": question,\n",
    "            \"answer\": answer,\n",
    "        }\n",
    "    )\n",
    "    question_id += 1\n",
    "print(questions[-10:])"
   ]
  },
  {
   "cell_type": "code",
   "execution_count": 26,
   "metadata": {},
   "outputs": [
    {
     "name": "stdout",
     "output_type": "stream",
     "text": [
      "[{'oid': 7331246, 'qid': 'easy-airbnb-0140', 'question': 'When was of Central Park, Museum Mile (id: 7331246) in East Harlem constructed?', 'answer': '2021'}, {'oid': 47983288, 'qid': 'easy-airbnb-0141', 'question': 'When was of Chic Spacious Beachfront House (id: 47983288) in Arverne constructed?', 'answer': '2018'}, {'oid': 29322728, 'qid': 'easy-airbnb-0142', 'question': 'When was of New York Happy Life Room (id: 29322728) in Crown Heights constructed?', 'answer': '2019'}, {'oid': 3072461, 'qid': 'easy-airbnb-0143', 'question': 'When was of New Studio in Heart of Chelsea (id: 3072461) in Chelsea constructed?', 'answer': '2018'}, {'oid': 49010566, 'qid': 'easy-airbnb-0144', 'question': 'When was of East 74th street, Cozy UES Studio Svcd Apartment (id: 49010566) in Upper East Side constructed?', 'answer': '2005'}, {'oid': 26865545, 'qid': 'easy-airbnb-0145', 'question': 'When was of Sunny Private BR Apt in Fort Greene Cumberland (id: 26865545) in Fort Greene constructed?', 'answer': '2021'}, {'oid': 18674936, 'qid': 'easy-airbnb-0146', 'question': 'When was of Colorful, quiet, private room near LaGuardia/NYC (id: 18674936) in Ditmars Steinway constructed?', 'answer': '2020'}, {'oid': 11775052, 'qid': 'easy-airbnb-0147', 'question': 'When was of Spacious, comfortable, UES private room (id: 11775052) in Upper East Side constructed?', 'answer': '2013'}, {'oid': 57155886, 'qid': 'easy-airbnb-0148', 'question': 'When was of BK diggs (id: 57155886) in DUMBO constructed?', 'answer': '2018'}, {'oid': 24497283, 'qid': 'easy-airbnb-0149', 'question': 'When was of Modern 2BDR. Great Location, Quiet, 24/7 Doorman (id: 24497283) in Financial District constructed?', 'answer': '2017'}]\n"
     ]
    }
   ],
   "source": [
    "for _ in range(num_questions_per_template):\n",
    "    oid = \"\"\n",
    "    answer = \"\"\n",
    "    while not answer:\n",
    "        random_index = random.randint(0, len(data) - 1)\n",
    "        row = data.iloc[random_index]\n",
    "        Name = row[\"NAME\"]\n",
    "        oid = int(row[\"id\"])\n",
    "        neighbourhood = row[\"neighbourhood\"]\n",
    "        question = (\n",
    "            f'When was of {Name} (id: {row[\"id\"]}) in {neighbourhood} constructed?'\n",
    "        )\n",
    "        sub_table = data.loc[\n",
    "            (data[\"NAME\"] == Name)\n",
    "            & (data[\"id\"] == row[\"id\"])\n",
    "            & (data[\"neighbourhood\"] == neighbourhood)\n",
    "        ]\n",
    "        answer = str(int(row[\"Construction year\"])) if len(sub_table) == 1 else \"\"\n",
    "    questions.append(\n",
    "        {\n",
    "            \"oid\": oid,\n",
    "            \"qid\": \"easy-airbnb-{:0>4d}\".format(question_id),\n",
    "            \"question\": question,\n",
    "            \"answer\": answer,\n",
    "        }\n",
    "    )\n",
    "    question_id += 1\n",
    "print(questions[-10:])"
   ]
  },
  {
   "cell_type": "code",
   "execution_count": 27,
   "metadata": {},
   "outputs": [
    {
     "name": "stdout",
     "output_type": "stream",
     "text": [
      "[{'oid': 43541139, 'qid': 'easy-airbnb-0165', 'question': 'How many reviews does Big Room, Refinished Place - 35 min to Times Sq. (id: 43541139) in Inwood have?', 'answer': '30'}, {'oid': 45157169, 'qid': 'easy-airbnb-0166', 'question': 'How many reviews does Spacious house close to yankee stadium. (id: 45157169) in Mount Hope have?', 'answer': '6'}, {'oid': 54774921, 'qid': 'easy-airbnb-0167', 'question': 'How many reviews does Camp Rockaway (id: 54774921) in Breezy Point have?', 'answer': '1'}, {'oid': 18386635, 'qid': 'easy-airbnb-0168', 'question': 'How many reviews does Prime Upper east~2BR~ newly furnished (id: 18386635) in Upper East Side have?', 'answer': '0'}, {'oid': 33485413, 'qid': 'easy-airbnb-0169', 'question': 'How many reviews does 1630 Madison Avenue 4C (id: 33485413) in East Harlem have?', 'answer': '9'}, {'oid': 27081494, 'qid': 'easy-airbnb-0170', 'question': 'How many reviews does Harlem 1 bedroom Private Room - Modern (id: 27081494) in Harlem have?', 'answer': '0'}, {'oid': 19271420, 'qid': 'easy-airbnb-0171', 'question': 'How many reviews does Small Room in great location Upper East Side (id: 19271420) in Upper East Side have?', 'answer': '44'}, {'oid': 37032283, 'qid': 'easy-airbnb-0172', 'question': 'How many reviews does Cómodo apartamento en barrio italiano (id: 37032283) in Belmont have?', 'answer': '3'}, {'oid': 8143127, 'qid': 'easy-airbnb-0173', 'question': 'How many reviews does Newly Renovated Tribeca 2 br (id: 8143127) in Tribeca have?', 'answer': '0'}, {'oid': 2379325, 'qid': 'easy-airbnb-0174', 'question': 'How many reviews does nice room in bedstuy H (id: 2379325) in Bedford-Stuyvesant have?', 'answer': '127'}]\n"
     ]
    }
   ],
   "source": [
    "for _ in range(num_questions_per_template):\n",
    "    oid = \"\"\n",
    "    answer = \"\"\n",
    "    while not answer:\n",
    "        random_index = random.randint(0, len(data) - 1)\n",
    "        row = data.iloc[random_index]\n",
    "        Name = row[\"NAME\"]\n",
    "        oid = int(row[\"id\"])\n",
    "        neighbourhood = row[\"neighbourhood\"]\n",
    "        question = (\n",
    "            f\"How many reviews does {Name} (id: {row['id']}) in {neighbourhood} have?\"\n",
    "        )\n",
    "        sub_table = data.loc[\n",
    "            (data[\"NAME\"] == Name)\n",
    "            & (data[\"id\"] == row[\"id\"])\n",
    "            & (data[\"neighbourhood\"] == neighbourhood)\n",
    "        ]\n",
    "        answer = str(int(row[\"number of reviews\"])) if len(sub_table) == 1 else \"\"\n",
    "    questions.append(\n",
    "        {\n",
    "            \"oid\": oid,\n",
    "            \"qid\": \"easy-airbnb-{:0>4d}\".format(question_id),\n",
    "            \"question\": question,\n",
    "            \"answer\": answer,\n",
    "        }\n",
    "    )\n",
    "    question_id += 1\n",
    "print(questions[-10:])"
   ]
  },
  {
   "cell_type": "code",
   "execution_count": 28,
   "metadata": {},
   "outputs": [
    {
     "name": "stdout",
     "output_type": "stream",
     "text": [
      "[{'oid': 11088543, 'qid': 'easy-airbnb-0190', 'question': 'What is the last review date of Greenpoint amazing private room (id: 11088543) in Greenpoint?', 'answer': '5/5/2019'}, {'oid': 54636294, 'qid': 'easy-airbnb-0191', 'question': 'What is the last review date of La Cantina + Room in Bed-Stuy (id: 54636294) in Bedford-Stuyvesant?', 'answer': '7/1/2019'}, {'oid': 14352084, 'qid': 'easy-airbnb-0192', 'question': 'What is the last review date of Modern one bedroom condo in Central Fort Greene BK (id: 14352084) in Fort Greene?', 'answer': '7/1/2019'}, {'oid': 49798698, 'qid': 'easy-airbnb-0193', 'question': 'What is the last review date of Bedroom in the <3 of Astoria close to the city (id: 49798698) in Astoria?', 'answer': '4/23/2019'}, {'oid': 10033650, 'qid': 'easy-airbnb-0194', 'question': 'What is the last review date of Best Value 1,000SF 2BR Classic Brownstone (id: 10033650) in Crown Heights?', 'answer': '7/6/2019'}, {'oid': 27839250, 'qid': 'easy-airbnb-0195', 'question': 'What is the last review date of Charming and Spacious Harlem Nest (id: 27839250) in Harlem?', 'answer': nan}, {'oid': 21086830, 'qid': 'easy-airbnb-0196', 'question': 'What is the last review date of Super charming and cozy one bedroom apartment. (id: 21086830) in Long Island City?', 'answer': '6/30/2019'}, {'oid': 35732169, 'qid': 'easy-airbnb-0197', 'question': 'What is the last review date of Luxurious 2-bedroom residential home with a deck. (id: 35732169) in Flushing?', 'answer': '10/31/2021'}, {'oid': 16776681, 'qid': 'easy-airbnb-0198', 'question': 'What is the last review date of Soho/East Village One Bed (id: 16776681) in East Village?', 'answer': '6/15/2019'}, {'oid': 41312608, 'qid': 'easy-airbnb-0199', 'question': 'What is the last review date of ★ Hidden Gem. Spacious. Restaurants, Cafés Galore. (id: 41312608) in Harlem?', 'answer': '5/27/2019'}]\n"
     ]
    }
   ],
   "source": [
    "for i in range(num_questions_per_template):\n",
    "    oid = \"\"\n",
    "    answer = \"\"\n",
    "    while answer == \"\":\n",
    "        random_index = random.randint(0, len(data) - 1)\n",
    "        row = data.iloc[random_index]\n",
    "        Name = row[\"NAME\"]\n",
    "        oid = int(row[\"id\"])\n",
    "        neighbourhood = row[\"neighbourhood\"]\n",
    "        question = \"What is the last review date of {} (id: {}) in {}?\".format(\n",
    "            Name, row[\"id\"], neighbourhood\n",
    "        )\n",
    "        sub_table = data.loc[\n",
    "            (data[\"NAME\"] == Name)\n",
    "            & (data[\"id\"] == row[\"id\"])\n",
    "            & (data[\"neighbourhood\"] == neighbourhood)\n",
    "        ]\n",
    "        if len(sub_table) == 1:\n",
    "            answer = row[\"last review\"]\n",
    "        else:\n",
    "            answer = \"\"\n",
    "    questions.append(\n",
    "        {\n",
    "            \"oid\": oid,\n",
    "            \"qid\": \"easy-airbnb-{:0>4d}\".format(question_id),\n",
    "            \"question\": question,\n",
    "            \"answer\": answer,\n",
    "        }\n",
    "    )\n",
    "    question_id += 1\n",
    "print(questions[-10:])"
   ]
  },
  {
   "cell_type": "code",
   "execution_count": 29,
   "metadata": {},
   "outputs": [
    {
     "name": "stdout",
     "output_type": "stream",
     "text": [
      "[{'oid': 7860350, 'qid': 'easy-airbnb-0215', 'question': \"What is the review rate number of Convenient Place in Midtown (id: 7860350) in Hell's Kitchen?\", 'answer': '5.0'}, {'oid': 15101555, 'qid': 'easy-airbnb-0216', 'question': 'What is the review rate number of Private room next to Central Park! (id: 15101555) in Upper West Side?', 'answer': '5.0'}, {'oid': 37608332, 'qid': 'easy-airbnb-0217', 'question': 'What is the review rate number of COZY ONE BEDROOM APARTMENT IN MANHATTAN (id: 37608332) in Upper East Side?', 'answer': '2.0'}, {'oid': 25251172, 'qid': 'easy-airbnb-0218', 'question': 'What is the review rate number of NEW! Beautiful room in flat w/ rooftop in SOHO :) (id: 25251172) in Nolita?', 'answer': '4.0'}, {'oid': 28441257, 'qid': 'easy-airbnb-0219', 'question': 'What is the review rate number of UNTITLED at Freeman-Cozy Studio 605 (id: 28441257) in Nolita?', 'answer': '2.0'}, {'oid': 51173373, 'qid': 'easy-airbnb-0220', 'question': 'What is the review rate number of Cosy private room in modern sunny Williamsburg apt (id: 51173373) in Williamsburg?', 'answer': '1.0'}, {'oid': 7004837, 'qid': 'easy-airbnb-0221', 'question': 'What is the review rate number of Cozy private room (id: 7004837) in Harlem?', 'answer': '4.0'}, {'oid': 29561321, 'qid': 'easy-airbnb-0222', 'question': 'What is the review rate number of Studio apartment in Sunset park (id: 29561321) in Borough Park?', 'answer': '5.0'}, {'oid': 43822812, 'qid': 'easy-airbnb-0223', 'question': 'What is the review rate number of Big Sunny Room in NYC (B5) (id: 43822812) in Harlem?', 'answer': '1.0'}, {'oid': 47984392, 'qid': 'easy-airbnb-0224', 'question': 'What is the review rate number of DSGN by Starck! GYM W&D Basket Ball Court !5183 (id: 47984392) in Financial District?', 'answer': '2.0'}]\n"
     ]
    }
   ],
   "source": [
    "for _ in range(num_questions_per_template):\n",
    "    oid = \"\"\n",
    "    answer = \"\"\n",
    "    while not answer:\n",
    "        random_index = random.randint(0, len(data) - 1)\n",
    "        row = data.iloc[random_index]\n",
    "        Name = row[\"NAME\"]\n",
    "        oid = int(row[\"id\"])\n",
    "        neighbourhood = row[\"neighbourhood\"]\n",
    "        question = f\"What is the review rate number of {Name} (id: {row['id']}) in {neighbourhood}?\"\n",
    "        sub_table = data.loc[\n",
    "            (data[\"NAME\"] == Name)\n",
    "            & (data[\"id\"] == row[\"id\"])\n",
    "            & (data[\"neighbourhood\"] == neighbourhood)\n",
    "        ]\n",
    "        answer = str(row[\"review rate number\"]) if len(sub_table) == 1 else \"\"\n",
    "    questions.append(\n",
    "        {\n",
    "            \"oid\": oid,\n",
    "            \"qid\": \"easy-airbnb-{:0>4d}\".format(question_id),\n",
    "            \"question\": question,\n",
    "            \"answer\": answer,\n",
    "        }\n",
    "    )\n",
    "    question_id += 1\n",
    "print(questions[-10:])"
   ]
  },
  {
   "cell_type": "code",
   "execution_count": 30,
   "metadata": {},
   "outputs": [
    {
     "name": "stdout",
     "output_type": "stream",
     "text": [
      "[{'oid': 31101134, 'qid': 'easy-airbnb-0240', 'question': 'What is the average number of reviews per month of Spacious & Modern Luxury Apartment (id: 31101134) in Ditmars Steinway?', 'answer': '0.32'}, {'oid': 30310240, 'qid': 'easy-airbnb-0241', 'question': 'What is the average number of reviews per month of Cozy studio in Park Slope (id: 30310240) in Park Slope?', 'answer': '2.1'}, {'oid': 45019646, 'qid': 'easy-airbnb-0242', 'question': 'What is the average number of reviews per month of Fresh, bright modern studio w/ Garage Parking (id: 45019646) in Flushing?', 'answer': '3.52'}, {'oid': 4328944, 'qid': 'easy-airbnb-0243', 'question': 'What is the average number of reviews per month of Apartment Crown Heights Brooklyn NY (id: 4328944) in East Flatbush?', 'answer': '1.85'}, {'oid': 13273442, 'qid': 'easy-airbnb-0244', 'question': 'What is the average number of reviews per month of Sunny and spacious apartment in Greenpoint (id: 13273442) in Greenpoint?', 'answer': '0.07'}, {'oid': 48936005, 'qid': 'easy-airbnb-0245', 'question': 'What is the average number of reviews per month of *Cozy apt Manhattan,Near Central Park !* (id: 48936005) in Upper East Side?', 'answer': '1.76'}, {'oid': 54705883, 'qid': 'easy-airbnb-0246', 'question': 'What is the average number of reviews per month of 1 BEDROOM ON UES-DOORMAN/WASHER/DRYER (id: 54705883) in Upper East Side?', 'answer': 'nan'}, {'oid': 16228799, 'qid': 'easy-airbnb-0247', 'question': 'What is the average number of reviews per month of 1 BR near Union Square (id: 16228799) in East Village?', 'answer': '0.05'}, {'oid': 22221807, 'qid': 'easy-airbnb-0248', 'question': 'What is the average number of reviews per month of Room into heart of Brooklyn close  Prospect Park D (id: 22221807) in Prospect-Lefferts Gardens?', 'answer': '1.86'}, {'oid': 17903925, 'qid': 'easy-airbnb-0249', 'question': 'What is the average number of reviews per month of Beautiful 1 BD Apt in Upper West Manhattan (id: 17903925) in Morningside Heights?', 'answer': '0.16'}]\n"
     ]
    }
   ],
   "source": [
    "for _ in range(num_questions_per_template):\n",
    "    oid = \"\"\n",
    "    answer = \"\"\n",
    "    while not answer:\n",
    "        random_index = random.randint(0, len(data) - 1)\n",
    "        row = data.iloc[random_index]\n",
    "        Name = row[\"NAME\"]\n",
    "        oid = int(row[\"id\"])\n",
    "        neighbourhood = row[\"neighbourhood\"]\n",
    "        question = f'What is the average number of reviews per month of {Name} (id: {row[\"id\"]}) in {neighbourhood}?'\n",
    "        sub_table = data.loc[\n",
    "            (data[\"NAME\"] == Name)\n",
    "            & (data[\"id\"] == row[\"id\"])\n",
    "            & (data[\"neighbourhood\"] == neighbourhood)\n",
    "        ]\n",
    "        answer = str(row[\"reviews per month\"]) if len(sub_table) == 1 else \"\"\n",
    "    questions.append(\n",
    "        {\n",
    "            \"oid\": oid,\n",
    "            \"qid\": \"easy-airbnb-{:0>4d}\".format(question_id),\n",
    "            \"question\": question,\n",
    "            \"answer\": answer,\n",
    "        }\n",
    "    )\n",
    "    question_id += 1\n",
    "print(questions[-10:])"
   ]
  },
  {
   "cell_type": "code",
   "execution_count": 31,
   "metadata": {},
   "outputs": [],
   "source": [
    "data_path = Path(os.getcwd()).parent.parent / \"data\"\n",
    "with jsonlines.open(data_path / \"questions\" / \"easy\" / \"airbnb-easy.jsonl\", mode='w') as writer:\n",
    "    for row in questions:\n",
    "        writer.write(row)"
   ]
  },
  {
   "cell_type": "code",
   "execution_count": null,
   "metadata": {},
   "outputs": [],
   "source": []
  }
 ],
 "metadata": {
  "kernelspec": {
   "display_name": "llm",
   "language": "python",
   "name": "python3"
  },
  "language_info": {
   "codemirror_mode": {
    "name": "ipython",
    "version": 3
   },
   "file_extension": ".py",
   "mimetype": "text/x-python",
   "name": "python",
   "nbconvert_exporter": "python",
   "pygments_lexer": "ipython3",
   "version": "3.10.7"
  },
  "orig_nbformat": 4
 },
 "nbformat": 4,
 "nbformat_minor": 2
}
