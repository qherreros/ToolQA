{
 "cells": [
  {
   "cell_type": "code",
   "execution_count": 2,
   "metadata": {},
   "outputs": [],
   "source": [
    "import random\n",
    "import jsonlines\n",
    "import pandas as pd\n",
    "from pathlib import Path\n",
    "import os"
   ]
  },
  {
   "cell_type": "code",
   "execution_count": 3,
   "metadata": {},
   "outputs": [
    {
     "name": "stdout",
     "output_type": "stream",
     "text": [
      "Index(['id', 'NAME', 'host id', 'host_identity_verified', 'host name',\n",
      "       'neighbourhood group', 'neighbourhood', 'lat', 'long', 'country',\n",
      "       'country code', 'instant_bookable', 'cancellation_policy', 'room type',\n",
      "       'Construction year', 'price', 'service fee', 'minimum nights',\n",
      "       'number of reviews', 'last review', 'reviews per month',\n",
      "       'review rate number', 'calculated host listings count',\n",
      "       'availability 365', 'house_rules', 'license'],\n",
      "      dtype='object')\n"
     ]
    }
   ],
   "source": [
    "data_path = Path(os.getcwd()).parent.parent / \"data\"\n",
    "dtype = {\"license\": str}\n",
    "data = pd.read_csv(\n",
    "    data_path / \"raw_data\" / \"airbnb\" / \"Airbnb_Open_Data.csv\", dtype=dtype\n",
    ")\n",
    "print(data.columns)"
   ]
  },
  {
   "cell_type": "code",
   "execution_count": 4,
   "metadata": {},
   "outputs": [
    {
     "name": "stdout",
     "output_type": "stream",
     "text": [
      "286.0\n"
     ]
    }
   ],
   "source": [
    "print(data.iloc[0]['availability 365'])"
   ]
  },
  {
   "cell_type": "code",
   "execution_count": 21,
   "metadata": {},
   "outputs": [],
   "source": [
    "num_questions_per_template = 10\n",
    "question_id = 0\n",
    "questions = []"
   ]
  },
  {
   "cell_type": "code",
   "execution_count": 22,
   "metadata": {},
   "outputs": [
    {
     "name": "stdout",
     "output_type": "stream",
     "text": [
      "[{'oid': 28401491, 'qid': 'easy-airbnb-0000', 'question': \"What is the host's name for Hotel 46 Times Square, King Bed, Steps from it all in Theater District?\", 'answer': 'Hotel 46 Times  Square'}, {'oid': 29530393, 'qid': 'easy-airbnb-0001', 'question': \"What is the host's name for 1 BR Luxury Apt FiosTV Broadband Internet Self Chk in Graniteville?\", 'answer': 'Temi'}, {'oid': 23379980, 'qid': 'easy-airbnb-0002', 'question': \"What is the host's name for Stunning triplex in East Williamsburg in Williamsburg?\", 'answer': 'Peter'}, {'oid': 34377930, 'qid': 'easy-airbnb-0003', 'question': \"What is the host's name for Private room clean and comfortable in Brownsville?\", 'answer': 'Rory'}, {'oid': 26786014, 'qid': 'easy-airbnb-0004', 'question': \"What is the host's name for Luxury High Rise-Corner View-Walk to Times Square in Hell's Kitchen?\", 'answer': 'Robert'}, {'oid': 37575194, 'qid': 'easy-airbnb-0005', 'question': \"What is the host's name for Indoor Pool NYC in Jamaica Estates?\", 'answer': 'Journey'}, {'oid': 34327670, 'qid': 'easy-airbnb-0006', 'question': \"What is the host's name for Oasis, 15 min away from Manhattan in Bedford-Stuyvesant?\", 'answer': 'Johny'}, {'oid': 30805101, 'qid': 'easy-airbnb-0007', 'question': \"What is the host's name for Cozy, warm, bright entire basement apartment in Jamaica?\", 'answer': 'Analee'}, {'oid': 24932495, 'qid': 'easy-airbnb-0008', 'question': \"What is the host's name for Gorgeous, Large Brownstone with Backyard & Parking in Crown Heights?\", 'answer': 'Shannan'}, {'oid': 25091005, 'qid': 'easy-airbnb-0009', 'question': \"What is the host's name for Chefs apt w/ art, plants, books & strong coffee in Crown Heights?\", 'answer': 'Evan'}]\n"
     ]
    }
   ],
   "source": [
    "for _ in range(num_questions_per_template):\n",
    "    oid = \"\"\n",
    "    answer = \"\"\n",
    "    question = \"\"\n",
    "    while not answer:\n",
    "        random_index = random.randint(0, len(data) - 1)\n",
    "        row = data.iloc[random_index]\n",
    "        Name = row[\"NAME\"]\n",
    "        oid = int(row[\"id\"])\n",
    "        neighbourhood = row[\"neighbourhood\"]\n",
    "        question = f\"What is the host's name for {Name} in {neighbourhood}?\"\n",
    "        sub_table = data.loc[\n",
    "            (data[\"NAME\"] == Name) & (data[\"neighbourhood\"] == neighbourhood)\n",
    "        ]\n",
    "        answer = row[\"host name\"] if len(sub_table) == 1 else \"\"\n",
    "    questions.append(\n",
    "        {\n",
    "            \"oid\": oid,\n",
    "            \"qid\": \"easy-airbnb-{:0>4d}\".format(question_id),\n",
    "            \"question\": question,\n",
    "            \"answer\": answer,\n",
    "        }\n",
    "    )\n",
    "    question_id += 1\n",
    "print(questions[-10:])"
   ]
  },
  {
   "cell_type": "code",
   "execution_count": 23,
   "metadata": {},
   "outputs": [
    {
     "name": "stdout",
     "output_type": "stream",
     "text": [
      "[{'oid': 38145720, 'qid': 'easy-airbnb-0010', 'question': 'How many days are Comfy & Quiet 1 Bedroom (id: 38145720) available during a year (365 days)?', 'answer': '365'}, {'oid': 24788345, 'qid': 'easy-airbnb-0011', 'question': 'How many days are Sunny Cozy Economic Garden Bedroom 4GR (id: 24788345) available during a year (365 days)?', 'answer': '48'}, {'oid': 24112882, 'qid': 'easy-airbnb-0012', 'question': 'How many days are Luxury home, 2700 sq ft, 20 m to airports/City/LI! (id: 24112882) available during a year (365 days)?', 'answer': '94'}, {'oid': 44270175, 'qid': 'easy-airbnb-0013', 'question': 'How many days are Beautiful little bedroom + private living room (id: 44270175) available during a year (365 days)?', 'answer': '215'}, {'oid': 22019665, 'qid': 'easy-airbnb-0014', 'question': 'How many days are Cozy Four Twenty Friendly Bedroom in Brooklyn (id: 22019665) available during a year (365 days)?', 'answer': '0'}, {'oid': 20930529, 'qid': 'easy-airbnb-0015', 'question': 'How many days are Home For Medical Professionals - \"The Abducens\" (id: 20930529) available during a year (365 days)?', 'answer': '311'}, {'oid': 46621316, 'qid': 'easy-airbnb-0016', 'question': 'How many days are Comfy HP“TWIN BED” 5 mins to LGA-US OPEN & 7 train (id: 46621316) available during a year (365 days)?', 'answer': '365'}, {'oid': 39466270, 'qid': 'easy-airbnb-0017', 'question': 'How many days are Prime location near Central Park !! (id: 39466270) available during a year (365 days)?', 'answer': '247'}, {'oid': 8903644, 'qid': 'easy-airbnb-0018', 'question': 'How many days are Modern Studio in Brooklyn (id: 8903644) available during a year (365 days)?', 'answer': '177'}, {'oid': 5112105, 'qid': 'easy-airbnb-0019', 'question': 'How many days are Home 4 Medical Professionals-Dwnst8 (id: 5112105) available during a year (365 days)?', 'answer': '262'}]\n"
     ]
    }
   ],
   "source": [
    "for _ in range(num_questions_per_template):\n",
    "    oid = \"\"\n",
    "    answer = \"\"\n",
    "    while not answer:\n",
    "        random_index = random.randint(0, len(data) - 1)\n",
    "        row = data.iloc[random_index]\n",
    "        Name = row[\"NAME\"]\n",
    "        oid = int(row[\"id\"])\n",
    "        question = f'How many days are {Name} (id: {row[\"id\"]}) available during a year (365 days)?'\n",
    "        sub_table = data.loc[(data[\"NAME\"] == Name) & (data[\"id\"] == row[\"id\"])]\n",
    "        answer = str(int(row[\"availability 365\"])) if len(sub_table) == 1 else \"\"\n",
    "    questions.append(\n",
    "        {\n",
    "            \"oid\": oid,\n",
    "            \"qid\": \"easy-airbnb-{:0>4d}\".format(question_id),\n",
    "            \"question\": question,\n",
    "            \"answer\": answer,\n",
    "        }\n",
    "    )\n",
    "    question_id += 1\n",
    "print(questions[-10:])"
   ]
  },
  {
   "cell_type": "code",
   "execution_count": 24,
   "metadata": {},
   "outputs": [
    {
     "name": "stdout",
     "output_type": "stream",
     "text": [
      "[{'oid': 28109325, 'qid': 'easy-airbnb-0020', 'question': 'What is the room type of 金城发suit3.  (single room with twin bed) (id: 28109325) in Flushing?', 'answer': 'Private room'}, {'oid': 30726122, 'qid': 'easy-airbnb-0021', 'question': 'What is the room type of Brooklyn chic studio apartment! (id: 30726122) in Bedford-Stuyvesant?', 'answer': 'Entire home/apt'}, {'oid': 30513487, 'qid': 'easy-airbnb-0022', 'question': 'What is the room type of Beautiful Private Bedroom with Balcony (id: 30513487) in Bedford-Stuyvesant?', 'answer': 'Private room'}, {'oid': 32689549, 'qid': 'easy-airbnb-0023', 'question': 'What is the room type of Apartment near Coney Island beach (id: 32689549) in Coney Island?', 'answer': 'Entire home/apt'}, {'oid': 33255656, 'qid': 'easy-airbnb-0024', 'question': 'What is the room type of 145 Mulberry-Spacious Studio (id: 33255656) in Little Italy?', 'answer': 'Entire home/apt'}, {'oid': 30056182, 'qid': 'easy-airbnb-0025', 'question': 'What is the room type of *New *heart of brooklyn Brownstone second-floor walk-up close to trains and buses. (id: 30056182) in Kensington?', 'answer': 'Entire home/apt'}, {'oid': 26403270, 'qid': 'easy-airbnb-0026', 'question': 'What is the room type of New Studio in UWS steps from Central Park #6122 (id: 26403270) in Upper West Side?', 'answer': 'Entire home/apt'}, {'oid': 8657319, 'qid': 'easy-airbnb-0027', 'question': 'What is the room type of Interfaith Retreat Guest Rooms (Mary) (id: 8657319) in Chelsea?', 'answer': 'Private room'}, {'oid': 4457077, 'qid': 'easy-airbnb-0028', 'question': 'What is the room type of Lovely Studio on the edge of the McGolrick Park (id: 4457077) in Greenpoint?', 'answer': 'Private room'}, {'oid': 9001954, 'qid': 'easy-airbnb-0029', 'question': 'What is the room type of Designer 1Bd with Treelined Terrace (id: 9001954) in Prospect Heights?', 'answer': 'Entire home/apt'}]\n"
     ]
    }
   ],
   "source": [
    "for _ in range(num_questions_per_template):\n",
    "    oid = \"\"\n",
    "    answer = \"\"\n",
    "    while not answer:\n",
    "        random_index = random.randint(0, len(data) - 1)\n",
    "        row = data.iloc[random_index]\n",
    "        Name = row[\"NAME\"]\n",
    "        oid = int(row[\"id\"])\n",
    "        neighbourhood = row[\"neighbourhood\"]\n",
    "        question = (\n",
    "            f'What is the room type of {Name} (id: {row[\"id\"]}) in {neighbourhood}?'\n",
    "        )\n",
    "        sub_table = data.loc[\n",
    "            (data[\"NAME\"] == Name)\n",
    "            & (data[\"id\"] == row[\"id\"])\n",
    "            & (data[\"neighbourhood\"] == neighbourhood)\n",
    "        ]\n",
    "        answer = row[\"room type\"] if len(sub_table) == 1 else \"\"\n",
    "    questions.append(\n",
    "        {\n",
    "            \"oid\": oid,\n",
    "            \"qid\": \"easy-airbnb-{:0>4d}\".format(question_id),\n",
    "            \"question\": question,\n",
    "            \"answer\": answer,\n",
    "        }\n",
    "    )\n",
    "    question_id += 1\n",
    "print(questions[-10:])"
   ]
  },
  {
   "cell_type": "code",
   "execution_count": 25,
   "metadata": {},
   "outputs": [
    {
     "name": "stdout",
     "output_type": "stream",
     "text": [
      "[{'oid': 29006260, 'qid': 'easy-airbnb-0030', 'question': 'What is the price of Adorable 1-bedroom place in Bronx. # 4 (id: 29006260) in Wakefield?', 'answer': '$1,177 '}, {'oid': 25537816, 'qid': 'easy-airbnb-0031', 'question': 'What is the price of Delightful 1BR in Midtown East by Sonder (id: 25537816) in Murray Hill?', 'answer': '$138 '}, {'oid': 53816128, 'qid': 'easy-airbnb-0032', 'question': 'What is the price of Chelsea Studio Apt (id: 53816128) in Chelsea?', 'answer': '$786 '}, {'oid': 42554731, 'qid': 'easy-airbnb-0033', 'question': 'What is the price of Travelers Paradise Steps from Empire State Bld (id: 42554731) in Midtown?', 'answer': '$179 '}, {'oid': 5119285, 'qid': 'easy-airbnb-0034', 'question': \"What is the price of Doesn't get any better than this!! (id: 5119285) in Williamsburg?\", 'answer': '$771 '}, {'oid': 6015668, 'qid': 'easy-airbnb-0035', 'question': 'What is the price of Upper WestSide NYC Central Park II (id: 6015668) in Upper West Side?', 'answer': '$715 '}, {'oid': 12117478, 'qid': 'easy-airbnb-0036', 'question': 'What is the price of B & B in NYC!! (id: 12117478) in Washington Heights?', 'answer': '$203 '}, {'oid': 22922123, 'qid': 'easy-airbnb-0037', 'question': 'What is the price of Home Away From Home (id: 22922123) in Crown Heights?', 'answer': '$750 '}, {'oid': 14232235, 'qid': 'easy-airbnb-0038', 'question': 'What is the price of Artsy, Cozy 1 bedroom in Flatbush (id: 14232235) in East Flatbush?', 'answer': '$197 '}, {'oid': 51494259, 'qid': 'easy-airbnb-0039', 'question': 'What is the price of Beautiful room in Brooklyn (Bushwick) (id: 51494259) in Bushwick?', 'answer': '$920 '}]\n"
     ]
    }
   ],
   "source": [
    "for _ in range(num_questions_per_template):\n",
    "    oid = \"\"\n",
    "    answer = \"\"\n",
    "    while not answer:\n",
    "        random_index = random.randint(0, len(data) - 1)\n",
    "        row = data.iloc[random_index]\n",
    "        Name = row[\"NAME\"]\n",
    "        oid = int(row[\"id\"])\n",
    "        neighbourhood = row[\"neighbourhood\"]\n",
    "        question = f\"What is the price of {Name} (id: {row['id']}) in {neighbourhood}?\"\n",
    "        sub_table = data.loc[\n",
    "            (data[\"NAME\"] == Name)\n",
    "            & (data[\"id\"] == row[\"id\"])\n",
    "            & (data[\"neighbourhood\"] == neighbourhood)\n",
    "        ]\n",
    "        answer = row[\"price\"] if len(sub_table) == 1 else \"\"\n",
    "    questions.append(\n",
    "        {\n",
    "            \"oid\": oid,\n",
    "            \"qid\": \"easy-airbnb-{:0>4d}\".format(question_id),\n",
    "            \"question\": question,\n",
    "            \"answer\": answer,\n",
    "        }\n",
    "    )\n",
    "    question_id += 1\n",
    "print(questions[-10:])"
   ]
  },
  {
   "cell_type": "code",
   "execution_count": 26,
   "metadata": {},
   "outputs": [
    {
     "name": "stdout",
     "output_type": "stream",
     "text": [
      "[{'oid': 9964060, 'qid': 'easy-airbnb-0040', 'question': 'What is the minimum number of nights of Sunny 1 Bedroom in Park Slope near Prospect Park (id: 9964060) in Park Slope?', 'answer': '8'}, {'oid': 2454437, 'qid': 'easy-airbnb-0041', 'question': 'What is the minimum number of nights of Columbus Circle/Central Park/Hells Kitchen (id: 2454437) in Upper West Side?', 'answer': '3'}, {'oid': 55505614, 'qid': 'easy-airbnb-0042', 'question': 'What is the minimum number of nights of Harlem apartment (id: 55505614) in Harlem?', 'answer': '1'}, {'oid': 30977419, 'qid': 'easy-airbnb-0043', 'question': \"What is the minimum number of nights of Fab apt in historic Hell’s Kitchen. Private. Safe. (id: 30977419) in Hell's Kitchen?\", 'answer': '3'}, {'oid': 46838370, 'qid': 'easy-airbnb-0044', 'question': 'What is the minimum number of nights of Great Value! Private room in the northeast bronx (id: 46838370) in Wakefield?', 'answer': '2'}, {'oid': 7688032, 'qid': 'easy-airbnb-0045', 'question': \"What is the minimum number of nights of UNBEATABLE LOCATION/TIMES SQUARE! (id: 7688032) in Hell's Kitchen?\", 'answer': '2'}, {'oid': 37155999, 'qid': 'easy-airbnb-0046', 'question': 'What is the minimum number of nights of Private Queen Suite Times SQ, Boutique Hotel (id: 37155999) in Theater District?', 'answer': '1'}, {'oid': 46128664, 'qid': 'easy-airbnb-0047', 'question': 'What is the minimum number of nights of Cozy Zen-like Jungle in Bushwick (id: 46128664) in Bushwick?', 'answer': '1'}, {'oid': 28984720, 'qid': 'easy-airbnb-0048', 'question': 'What is the minimum number of nights of Bright & Modern Oasis near City/Trains/Hospitals (id: 28984720) in Bedford-Stuyvesant?', 'answer': '2'}, {'oid': 3882133, 'qid': 'easy-airbnb-0049', 'question': 'What is the minimum number of nights of 2BR Apt with huge outdoor space (id: 3882133) in Bedford-Stuyvesant?', 'answer': '7'}]\n"
     ]
    }
   ],
   "source": [
    "for _ in range(num_questions_per_template):\n",
    "    oid = \"\"\n",
    "    answer = \"\"\n",
    "    while not answer:\n",
    "        random_index = random.randint(0, len(data) - 1)\n",
    "        row = data.iloc[random_index]\n",
    "        Name = row[\"NAME\"]\n",
    "        oid = int(row[\"id\"])\n",
    "        neighbourhood = row[\"neighbourhood\"]\n",
    "        question = f\"What is the minimum number of nights of {Name} (id: {row['id']}) in {neighbourhood}?\"\n",
    "        sub_table = data.loc[\n",
    "            (data[\"NAME\"] == Name)\n",
    "            & (data[\"id\"] == row[\"id\"])\n",
    "            & (data[\"neighbourhood\"] == neighbourhood)\n",
    "        ]\n",
    "        answer = str(int(row[\"minimum nights\"])) if len(sub_table) == 1 else \"\"\n",
    "    questions.append(\n",
    "        {\n",
    "            \"oid\": oid,\n",
    "            \"qid\": \"easy-airbnb-{:0>4d}\".format(question_id),\n",
    "            \"question\": question,\n",
    "            \"answer\": answer,\n",
    "        }\n",
    "    )\n",
    "    question_id += 1\n",
    "print(questions[-10:])"
   ]
  },
  {
   "cell_type": "code",
   "execution_count": 27,
   "metadata": {},
   "outputs": [
    {
     "name": "stdout",
     "output_type": "stream",
     "text": [
      "[{'oid': 7606844, 'qid': 'easy-airbnb-0050', 'question': 'When was of Bedroom for two near St Marks (id: 7606844) in East Village constructed?', 'answer': '2016'}, {'oid': 37682341, 'qid': 'easy-airbnb-0051', 'question': 'When was of Lovely one-bedroom in Hamilton Heights (id: 37682341) in Harlem constructed?', 'answer': '2021'}, {'oid': 42280238, 'qid': 'easy-airbnb-0052', 'question': 'When was of Great room great view /10min to heart of NYC (id: 42280238) in Maspeth constructed?', 'answer': '2016'}, {'oid': 5300439, 'qid': 'easy-airbnb-0053', 'question': 'When was of Spacious & Sunny Near McCarren Park (id: 5300439) in Greenpoint constructed?', 'answer': '2022'}, {'oid': 50397943, 'qid': 'easy-airbnb-0054', 'question': 'When was of Jefferson Estates (id: 50397943) in Bedford-Stuyvesant constructed?', 'answer': '2012'}, {'oid': 18658919, 'qid': 'easy-airbnb-0055', 'question': 'When was of VERY BIG APARTMENT IN HARLEM/ENTIRE APARTMENT (id: 18658919) in Harlem constructed?', 'answer': '2022'}, {'oid': 31968245, 'qid': 'easy-airbnb-0056', 'question': 'When was of Sun Soaked & Sustainable Studio, Williamsburg (id: 31968245) in Williamsburg constructed?', 'answer': '2020'}, {'oid': 6376872, 'qid': 'easy-airbnb-0057', 'question': 'When was of Bushwick Artist Haven w Private Yard by JMZ subway (id: 6376872) in Bushwick constructed?', 'answer': '2021'}, {'oid': 45817167, 'qid': 'easy-airbnb-0058', 'question': 'When was of Charming Newly Renovated Brownstone (id: 45817167) in Crown Heights constructed?', 'answer': '2016'}, {'oid': 48044593, 'qid': 'easy-airbnb-0059', 'question': 'When was of Cozy Doorman! On Broadway!Gym 5111 (id: 48044593) in Upper West Side constructed?', 'answer': '2008'}]\n"
     ]
    }
   ],
   "source": [
    "for _ in range(num_questions_per_template):\n",
    "    oid = \"\"\n",
    "    answer = \"\"\n",
    "    while not answer:\n",
    "        random_index = random.randint(0, len(data) - 1)\n",
    "        row = data.iloc[random_index]\n",
    "        Name = row[\"NAME\"]\n",
    "        oid = int(row[\"id\"])\n",
    "        neighbourhood = row[\"neighbourhood\"]\n",
    "        question = (\n",
    "            f'When was of {Name} (id: {row[\"id\"]}) in {neighbourhood} constructed?'\n",
    "        )\n",
    "        sub_table = data.loc[\n",
    "            (data[\"NAME\"] == Name)\n",
    "            & (data[\"id\"] == row[\"id\"])\n",
    "            & (data[\"neighbourhood\"] == neighbourhood)\n",
    "        ]\n",
    "        answer = str(int(row[\"Construction year\"])) if len(sub_table) == 1 else \"\"\n",
    "    questions.append(\n",
    "        {\n",
    "            \"oid\": oid,\n",
    "            \"qid\": \"easy-airbnb-{:0>4d}\".format(question_id),\n",
    "            \"question\": question,\n",
    "            \"answer\": answer,\n",
    "        }\n",
    "    )\n",
    "    question_id += 1\n",
    "print(questions[-10:])"
   ]
  },
  {
   "cell_type": "code",
   "execution_count": 28,
   "metadata": {},
   "outputs": [
    {
     "name": "stdout",
     "output_type": "stream",
     "text": [
      "[{'oid': 8361838, 'qid': 'easy-airbnb-0060', 'question': 'How many reviews does Open Room in Luxury Apartment (id: 8361838) in Financial District have?', 'answer': '0'}, {'oid': 6697206, 'qid': 'easy-airbnb-0061', 'question': 'How many reviews does Bright Comfy Studio! (id: 6697206) in Upper West Side have?', 'answer': '8'}, {'oid': 7161138, 'qid': 'easy-airbnb-0062', 'question': \"How many reviews does Brooklyn's Coolest One Bedroom (id: 7161138) in Williamsburg have?\", 'answer': '23'}, {'oid': 43489775, 'qid': 'easy-airbnb-0063', 'question': \"How many reviews does Luxury NYC 1 Bed w/Gorgeous Views + Pool (id: 43489775) in Hell's Kitchen have?\", 'answer': '4'}, {'oid': 36181741, 'qid': 'easy-airbnb-0064', 'question': 'How many reviews does Chic Upper West Side 1BR w/ Doorman near Central Park by Blueground (id: 36181741) in Upper West Side have?', 'answer': '1'}, {'oid': 19798867, 'qid': 'easy-airbnb-0065', 'question': 'How many reviews does Brooklyn [Williamsburg] Apartment (id: 19798867) in Williamsburg have?', 'answer': '6'}, {'oid': 50386897, 'qid': 'easy-airbnb-0066', 'question': 'How many reviews does Spacious and Homey 2 bedroom, Express Subway Stop (id: 50386897) in Crown Heights have?', 'answer': '7'}, {'oid': 18745630, 'qid': 'easy-airbnb-0067', 'question': 'How many reviews does Prime Williamsburg Apt steps from Bedford Ave (id: 18745630) in Williamsburg have?', 'answer': '0'}, {'oid': 7209740, 'qid': 'easy-airbnb-0068', 'question': 'How many reviews does West Village 2 Bed/2 Bath Loft Apt! (id: 7209740) in West Village have?', 'answer': '2'}, {'oid': 16598840, 'qid': 'easy-airbnb-0069', 'question': 'How many reviews does Comfortable studio duplex with a Queen size Casper mattress. A 15-minute walk to Union Square and a two-block walk to the subway. Beautiful light in the morning. (id: 16598840) in Gramercy have?', 'answer': '4'}]\n"
     ]
    }
   ],
   "source": [
    "for _ in range(num_questions_per_template):\n",
    "    oid = \"\"\n",
    "    answer = \"\"\n",
    "    while not answer:\n",
    "        random_index = random.randint(0, len(data) - 1)\n",
    "        row = data.iloc[random_index]\n",
    "        Name = row[\"NAME\"]\n",
    "        oid = int(row[\"id\"])\n",
    "        neighbourhood = row[\"neighbourhood\"]\n",
    "        question = (\n",
    "            f\"How many reviews does {Name} (id: {row['id']}) in {neighbourhood} have?\"\n",
    "        )\n",
    "        sub_table = data.loc[\n",
    "            (data[\"NAME\"] == Name)\n",
    "            & (data[\"id\"] == row[\"id\"])\n",
    "            & (data[\"neighbourhood\"] == neighbourhood)\n",
    "        ]\n",
    "        answer = str(int(row[\"number of reviews\"])) if len(sub_table) == 1 else \"\"\n",
    "    questions.append(\n",
    "        {\n",
    "            \"oid\": oid,\n",
    "            \"qid\": \"easy-airbnb-{:0>4d}\".format(question_id),\n",
    "            \"question\": question,\n",
    "            \"answer\": answer,\n",
    "        }\n",
    "    )\n",
    "    question_id += 1\n",
    "print(questions[-10:])"
   ]
  },
  {
   "cell_type": "code",
   "execution_count": 29,
   "metadata": {},
   "outputs": [
    {
     "name": "stdout",
     "output_type": "stream",
     "text": [
      "[{'oid': 11197346, 'qid': 'easy-airbnb-0070', 'question': 'What is the last review date of Designer Studio in the Heart of Harlem (id: 11197346) in Harlem?', 'answer': '5/18/2019'}, {'oid': 24273049, 'qid': 'easy-airbnb-0071', 'question': 'What is the last review date of Cozy Greenpoint one bedroom apartment (id: 24273049) in Greenpoint?', 'answer': '6/25/2019'}, {'oid': 36803631, 'qid': 'easy-airbnb-0072', 'question': 'What is the last review date of WELCOME HOME 15 MINUTES  TO MANHATTAN  BOOK TODAY (id: 36803631) in Longwood?', 'answer': '7/30/2021'}, {'oid': 53336732, 'qid': 'easy-airbnb-0073', 'question': 'What is the last review date of 2 BEDROOM APT-walk to CENTRAL PARK and restaurants (id: 53336732) in East Harlem?', 'answer': '6/20/2019'}, {'oid': 43442830, 'qid': 'easy-airbnb-0074', 'question': 'What is the last review date of Cozy Bushwick room w/  balcony, Longterm avail.! (id: 43442830) in Bushwick?', 'answer': '6/1/2019'}, {'oid': 41597043, 'qid': 'easy-airbnb-0075', 'question': 'What is the last review date of Private room in a huge Red Hook loft (id: 41597043) in Red Hook?', 'answer': '10/21/2018'}, {'oid': 56896858, 'qid': 'easy-airbnb-0076', 'question': 'What is the last review date of Centrally Located, Large, Clean, Private Bedroom (id: 56896858) in West Village?', 'answer': nan}, {'oid': 36708636, 'qid': 'easy-airbnb-0077', 'question': 'What is the last review date of The Evelyn, Superior 1 Queen Bed (id: 36708636) in Midtown?', 'answer': '8/4/2021'}, {'oid': 53537769, 'qid': 'easy-airbnb-0078', 'question': 'What is the last review date of Close to Manhattan and 5 minutes to LGA (id: 53537769) in East Elmhurst?', 'answer': '4/11/2019'}, {'oid': 10017081, 'qid': 'easy-airbnb-0079', 'question': \"What is the last review date of Studio in Midtown West (id: 10017081) in Hell's Kitchen?\", 'answer': '5/1/2019'}]\n"
     ]
    }
   ],
   "source": [
    "for i in range(num_questions_per_template):\n",
    "    oid = \"\"\n",
    "    answer = \"\"\n",
    "    while answer == \"\":\n",
    "        random_index = random.randint(0, len(data) - 1)\n",
    "        row = data.iloc[random_index]\n",
    "        Name = row[\"NAME\"]\n",
    "        oid = int(row[\"id\"])\n",
    "        neighbourhood = row[\"neighbourhood\"]\n",
    "        question = \"What is the last review date of {} (id: {}) in {}?\".format(\n",
    "            Name, row[\"id\"], neighbourhood\n",
    "        )\n",
    "        sub_table = data.loc[\n",
    "            (data[\"NAME\"] == Name)\n",
    "            & (data[\"id\"] == row[\"id\"])\n",
    "            & (data[\"neighbourhood\"] == neighbourhood)\n",
    "        ]\n",
    "        if len(sub_table) == 1:\n",
    "            answer = row[\"last review\"]\n",
    "        else:\n",
    "            answer = \"\"\n",
    "    questions.append(\n",
    "        {\n",
    "            \"oid\": oid,\n",
    "            \"qid\": \"easy-airbnb-{:0>4d}\".format(question_id),\n",
    "            \"question\": question,\n",
    "            \"answer\": answer,\n",
    "        }\n",
    "    )\n",
    "    question_id += 1\n",
    "print(questions[-10:])"
   ]
  },
  {
   "cell_type": "code",
   "execution_count": 30,
   "metadata": {},
   "outputs": [
    {
     "name": "stdout",
     "output_type": "stream",
     "text": [
      "[{'oid': 17156111, 'qid': 'easy-airbnb-0080', 'question': 'What is the review rate number of 1 Bedroom Apartment in Tribeca (id: 17156111) in Tribeca?', 'answer': '4.0'}, {'oid': 50642612, 'qid': 'easy-airbnb-0081', 'question': 'What is the review rate number of Spacious 1 Bedroom Apt in the heart of Harlem (id: 50642612) in Harlem?', 'answer': '1.0'}, {'oid': 44590509, 'qid': 'easy-airbnb-0082', 'question': 'What is the review rate number of Homey funky eclectic rich of arts (id: 44590509) in Crown Heights?', 'answer': '2.0'}, {'oid': 46453969, 'qid': 'easy-airbnb-0083', 'question': 'What is the review rate number of 1 BEDROOM CENTRAL PARK / BALCONY /COLUMBUS CIRCLE (id: 46453969) in Upper West Side?', 'answer': '2.0'}, {'oid': 13430848, 'qid': 'easy-airbnb-0084', 'question': 'What is the review rate number of BRIGHT SHABBY CHIC FLOOR THRU (id: 13430848) in Harlem?', 'answer': '4.0'}, {'oid': 6701624, 'qid': 'easy-airbnb-0085', 'question': 'What is the review rate number of Clean Cozy & Comfy Apartment! (id: 6701624) in Gramercy?', 'answer': '3.0'}, {'oid': 29250376, 'qid': 'easy-airbnb-0086', 'question': 'What is the review rate number of Carriage House Too (2) (id: 29250376) in Clinton Hill?', 'answer': '5.0'}, {'oid': 30636097, 'qid': 'easy-airbnb-0087', 'question': 'What is the review rate number of Noble House #2 (id: 30636097) in Greenpoint?', 'answer': '2.0'}, {'oid': 54050303, 'qid': 'easy-airbnb-0088', 'question': \"What is the review rate number of Stunning 1 Bedroom 2 Bathroom in Midtown (id: 54050303) in Hell's Kitchen?\", 'answer': '4.0'}, {'oid': 37394040, 'qid': 'easy-airbnb-0089', 'question': 'What is the review rate number of Pre-war 1BR steps from Central Park w/ 75” TV (id: 37394040) in Upper East Side?', 'answer': '2.0'}]\n"
     ]
    }
   ],
   "source": [
    "for _ in range(num_questions_per_template):\n",
    "    oid = \"\"\n",
    "    answer = \"\"\n",
    "    while not answer:\n",
    "        random_index = random.randint(0, len(data) - 1)\n",
    "        row = data.iloc[random_index]\n",
    "        Name = row[\"NAME\"]\n",
    "        oid = int(row[\"id\"])\n",
    "        neighbourhood = row[\"neighbourhood\"]\n",
    "        question = f\"What is the review rate number of {Name} (id: {row['id']}) in {neighbourhood}?\"\n",
    "        sub_table = data.loc[\n",
    "            (data[\"NAME\"] == Name)\n",
    "            & (data[\"id\"] == row[\"id\"])\n",
    "            & (data[\"neighbourhood\"] == neighbourhood)\n",
    "        ]\n",
    "        answer = str(row[\"review rate number\"]) if len(sub_table) == 1 else \"\"\n",
    "    questions.append(\n",
    "        {\n",
    "            \"oid\": oid,\n",
    "            \"qid\": \"easy-airbnb-{:0>4d}\".format(question_id),\n",
    "            \"question\": question,\n",
    "            \"answer\": answer,\n",
    "        }\n",
    "    )\n",
    "    question_id += 1\n",
    "print(questions[-10:])"
   ]
  },
  {
   "cell_type": "code",
   "execution_count": 31,
   "metadata": {},
   "outputs": [
    {
     "name": "stdout",
     "output_type": "stream",
     "text": [
      "[{'oid': 53867492, 'qid': 'easy-airbnb-0090', 'question': 'What is the average number of reviews per month of Brand new space ! ... safe, peaceful and relaxing. (id: 53867492) in Washington Heights?', 'answer': '0.79'}, {'oid': 21119968, 'qid': 'easy-airbnb-0091', 'question': 'What is the average number of reviews per month of Cozy 2 Bedroom Home (id: 21119968) in East New York?', 'answer': '1.66'}, {'oid': 11679504, 'qid': 'easy-airbnb-0092', 'question': 'What is the average number of reviews per month of Cozy and spacious room with private bathroom (id: 11679504) in Flatbush?', 'answer': '2.08'}, {'oid': 47579557, 'qid': 'easy-airbnb-0093', 'question': 'What is the average number of reviews per month of Light filled room in hip Gowanus (id: 47579557) in Gowanus?', 'answer': '0.02'}, {'oid': 19341562, 'qid': 'easy-airbnb-0094', 'question': 'What is the average number of reviews per month of Suite Monroe (id: 19341562) in Bedford-Stuyvesant?', 'answer': '2.26'}, {'oid': 14718811, 'qid': 'easy-airbnb-0095', 'question': 'What is the average number of reviews per month of Cool Studio in Brooklyn (id: 14718811) in Bedford-Stuyvesant?', 'answer': '0.17'}, {'oid': 25651590, 'qid': 'easy-airbnb-0096', 'question': 'What is the average number of reviews per month of Renovated Apartment in Brooklyn - Steps to G Train (id: 25651590) in Bedford-Stuyvesant?', 'answer': '1.0'}, {'oid': 47436511, 'qid': 'easy-airbnb-0097', 'question': 'What is the average number of reviews per month of Private room in two fl apartment (id: 47436511) in Bushwick?', 'answer': 'nan'}, {'oid': 20088824, 'qid': 'easy-airbnb-0098', 'question': 'What is the average number of reviews per month of Modern Staten Island Townhouse- Welcome home! (id: 20088824) in Randall Manor?', 'answer': '3.45'}, {'oid': 43266646, 'qid': 'easy-airbnb-0099', 'question': 'What is the average number of reviews per month of A home away from home in the heart of the UES:) (id: 43266646) in Upper East Side?', 'answer': '0.05'}]\n"
     ]
    }
   ],
   "source": [
    "for _ in range(num_questions_per_template):\n",
    "    oid = \"\"\n",
    "    answer = \"\"\n",
    "    while not answer:\n",
    "        random_index = random.randint(0, len(data) - 1)\n",
    "        row = data.iloc[random_index]\n",
    "        Name = row[\"NAME\"]\n",
    "        oid = int(row[\"id\"])\n",
    "        neighbourhood = row[\"neighbourhood\"]\n",
    "        question = f'What is the average number of reviews per month of {Name} (id: {row[\"id\"]}) in {neighbourhood}?'\n",
    "        sub_table = data.loc[\n",
    "            (data[\"NAME\"] == Name)\n",
    "            & (data[\"id\"] == row[\"id\"])\n",
    "            & (data[\"neighbourhood\"] == neighbourhood)\n",
    "        ]\n",
    "        answer = str(row[\"reviews per month\"]) if len(sub_table) == 1 else \"\"\n",
    "    questions.append(\n",
    "        {\n",
    "            \"oid\": oid,\n",
    "            \"qid\": \"easy-airbnb-{:0>4d}\".format(question_id),\n",
    "            \"question\": question,\n",
    "            \"answer\": answer,\n",
    "        }\n",
    "    )\n",
    "    question_id += 1\n",
    "print(questions[-10:])"
   ]
  },
  {
   "cell_type": "code",
   "execution_count": 32,
   "metadata": {},
   "outputs": [
    {
     "name": "stdout",
     "output_type": "stream",
     "text": [
      "{'oid': 28401491, 'qid': 'easy-airbnb-0000', 'question': \"What is the host's name for Hotel 46 Times Square, King Bed, Steps from it all in Theater District?\", 'answer': 'Hotel 46 Times  Square'}\n",
      "{'oid': 29530393, 'qid': 'easy-airbnb-0001', 'question': \"What is the host's name for 1 BR Luxury Apt FiosTV Broadband Internet Self Chk in Graniteville?\", 'answer': 'Temi'}\n",
      "{'oid': 23379980, 'qid': 'easy-airbnb-0002', 'question': \"What is the host's name for Stunning triplex in East Williamsburg in Williamsburg?\", 'answer': 'Peter'}\n",
      "{'oid': 34377930, 'qid': 'easy-airbnb-0003', 'question': \"What is the host's name for Private room clean and comfortable in Brownsville?\", 'answer': 'Rory'}\n",
      "{'oid': 26786014, 'qid': 'easy-airbnb-0004', 'question': \"What is the host's name for Luxury High Rise-Corner View-Walk to Times Square in Hell's Kitchen?\", 'answer': 'Robert'}\n",
      "{'oid': 37575194, 'qid': 'easy-airbnb-0005', 'question': \"What is the host's name for Indoor Pool NYC in Jamaica Estates?\", 'answer': 'Journey'}\n",
      "{'oid': 34327670, 'qid': 'easy-airbnb-0006', 'question': \"What is the host's name for Oasis, 15 min away from Manhattan in Bedford-Stuyvesant?\", 'answer': 'Johny'}\n",
      "{'oid': 30805101, 'qid': 'easy-airbnb-0007', 'question': \"What is the host's name for Cozy, warm, bright entire basement apartment in Jamaica?\", 'answer': 'Analee'}\n",
      "{'oid': 24932495, 'qid': 'easy-airbnb-0008', 'question': \"What is the host's name for Gorgeous, Large Brownstone with Backyard & Parking in Crown Heights?\", 'answer': 'Shannan'}\n",
      "{'oid': 25091005, 'qid': 'easy-airbnb-0009', 'question': \"What is the host's name for Chefs apt w/ art, plants, books & strong coffee in Crown Heights?\", 'answer': 'Evan'}\n",
      "{'oid': 38145720, 'qid': 'easy-airbnb-0010', 'question': 'How many days are Comfy & Quiet 1 Bedroom (id: 38145720) available during a year (365 days)?', 'answer': '365'}\n",
      "{'oid': 24788345, 'qid': 'easy-airbnb-0011', 'question': 'How many days are Sunny Cozy Economic Garden Bedroom 4GR (id: 24788345) available during a year (365 days)?', 'answer': '48'}\n",
      "{'oid': 24112882, 'qid': 'easy-airbnb-0012', 'question': 'How many days are Luxury home, 2700 sq ft, 20 m to airports/City/LI! (id: 24112882) available during a year (365 days)?', 'answer': '94'}\n",
      "{'oid': 44270175, 'qid': 'easy-airbnb-0013', 'question': 'How many days are Beautiful little bedroom + private living room (id: 44270175) available during a year (365 days)?', 'answer': '215'}\n",
      "{'oid': 22019665, 'qid': 'easy-airbnb-0014', 'question': 'How many days are Cozy Four Twenty Friendly Bedroom in Brooklyn (id: 22019665) available during a year (365 days)?', 'answer': '0'}\n",
      "{'oid': 20930529, 'qid': 'easy-airbnb-0015', 'question': 'How many days are Home For Medical Professionals - \"The Abducens\" (id: 20930529) available during a year (365 days)?', 'answer': '311'}\n",
      "{'oid': 46621316, 'qid': 'easy-airbnb-0016', 'question': 'How many days are Comfy HP“TWIN BED” 5 mins to LGA-US OPEN & 7 train (id: 46621316) available during a year (365 days)?', 'answer': '365'}\n",
      "{'oid': 39466270, 'qid': 'easy-airbnb-0017', 'question': 'How many days are Prime location near Central Park !! (id: 39466270) available during a year (365 days)?', 'answer': '247'}\n",
      "{'oid': 8903644, 'qid': 'easy-airbnb-0018', 'question': 'How many days are Modern Studio in Brooklyn (id: 8903644) available during a year (365 days)?', 'answer': '177'}\n",
      "{'oid': 5112105, 'qid': 'easy-airbnb-0019', 'question': 'How many days are Home 4 Medical Professionals-Dwnst8 (id: 5112105) available during a year (365 days)?', 'answer': '262'}\n",
      "{'oid': 28109325, 'qid': 'easy-airbnb-0020', 'question': 'What is the room type of 金城发suit3.  (single room with twin bed) (id: 28109325) in Flushing?', 'answer': 'Private room'}\n",
      "{'oid': 30726122, 'qid': 'easy-airbnb-0021', 'question': 'What is the room type of Brooklyn chic studio apartment! (id: 30726122) in Bedford-Stuyvesant?', 'answer': 'Entire home/apt'}\n",
      "{'oid': 30513487, 'qid': 'easy-airbnb-0022', 'question': 'What is the room type of Beautiful Private Bedroom with Balcony (id: 30513487) in Bedford-Stuyvesant?', 'answer': 'Private room'}\n",
      "{'oid': 32689549, 'qid': 'easy-airbnb-0023', 'question': 'What is the room type of Apartment near Coney Island beach (id: 32689549) in Coney Island?', 'answer': 'Entire home/apt'}\n",
      "{'oid': 33255656, 'qid': 'easy-airbnb-0024', 'question': 'What is the room type of 145 Mulberry-Spacious Studio (id: 33255656) in Little Italy?', 'answer': 'Entire home/apt'}\n",
      "{'oid': 30056182, 'qid': 'easy-airbnb-0025', 'question': 'What is the room type of *New *heart of brooklyn Brownstone second-floor walk-up close to trains and buses. (id: 30056182) in Kensington?', 'answer': 'Entire home/apt'}\n",
      "{'oid': 26403270, 'qid': 'easy-airbnb-0026', 'question': 'What is the room type of New Studio in UWS steps from Central Park #6122 (id: 26403270) in Upper West Side?', 'answer': 'Entire home/apt'}\n",
      "{'oid': 8657319, 'qid': 'easy-airbnb-0027', 'question': 'What is the room type of Interfaith Retreat Guest Rooms (Mary) (id: 8657319) in Chelsea?', 'answer': 'Private room'}\n",
      "{'oid': 4457077, 'qid': 'easy-airbnb-0028', 'question': 'What is the room type of Lovely Studio on the edge of the McGolrick Park (id: 4457077) in Greenpoint?', 'answer': 'Private room'}\n",
      "{'oid': 9001954, 'qid': 'easy-airbnb-0029', 'question': 'What is the room type of Designer 1Bd with Treelined Terrace (id: 9001954) in Prospect Heights?', 'answer': 'Entire home/apt'}\n",
      "{'oid': 29006260, 'qid': 'easy-airbnb-0030', 'question': 'What is the price of Adorable 1-bedroom place in Bronx. # 4 (id: 29006260) in Wakefield?', 'answer': '$1,177 '}\n",
      "{'oid': 25537816, 'qid': 'easy-airbnb-0031', 'question': 'What is the price of Delightful 1BR in Midtown East by Sonder (id: 25537816) in Murray Hill?', 'answer': '$138 '}\n",
      "{'oid': 53816128, 'qid': 'easy-airbnb-0032', 'question': 'What is the price of Chelsea Studio Apt (id: 53816128) in Chelsea?', 'answer': '$786 '}\n",
      "{'oid': 42554731, 'qid': 'easy-airbnb-0033', 'question': 'What is the price of Travelers Paradise Steps from Empire State Bld (id: 42554731) in Midtown?', 'answer': '$179 '}\n",
      "{'oid': 5119285, 'qid': 'easy-airbnb-0034', 'question': \"What is the price of Doesn't get any better than this!! (id: 5119285) in Williamsburg?\", 'answer': '$771 '}\n",
      "{'oid': 6015668, 'qid': 'easy-airbnb-0035', 'question': 'What is the price of Upper WestSide NYC Central Park II (id: 6015668) in Upper West Side?', 'answer': '$715 '}\n",
      "{'oid': 12117478, 'qid': 'easy-airbnb-0036', 'question': 'What is the price of B & B in NYC!! (id: 12117478) in Washington Heights?', 'answer': '$203 '}\n",
      "{'oid': 22922123, 'qid': 'easy-airbnb-0037', 'question': 'What is the price of Home Away From Home (id: 22922123) in Crown Heights?', 'answer': '$750 '}\n",
      "{'oid': 14232235, 'qid': 'easy-airbnb-0038', 'question': 'What is the price of Artsy, Cozy 1 bedroom in Flatbush (id: 14232235) in East Flatbush?', 'answer': '$197 '}\n",
      "{'oid': 51494259, 'qid': 'easy-airbnb-0039', 'question': 'What is the price of Beautiful room in Brooklyn (Bushwick) (id: 51494259) in Bushwick?', 'answer': '$920 '}\n",
      "{'oid': 9964060, 'qid': 'easy-airbnb-0040', 'question': 'What is the minimum number of nights of Sunny 1 Bedroom in Park Slope near Prospect Park (id: 9964060) in Park Slope?', 'answer': '8'}\n",
      "{'oid': 2454437, 'qid': 'easy-airbnb-0041', 'question': 'What is the minimum number of nights of Columbus Circle/Central Park/Hells Kitchen (id: 2454437) in Upper West Side?', 'answer': '3'}\n",
      "{'oid': 55505614, 'qid': 'easy-airbnb-0042', 'question': 'What is the minimum number of nights of Harlem apartment (id: 55505614) in Harlem?', 'answer': '1'}\n",
      "{'oid': 30977419, 'qid': 'easy-airbnb-0043', 'question': \"What is the minimum number of nights of Fab apt in historic Hell’s Kitchen. Private. Safe. (id: 30977419) in Hell's Kitchen?\", 'answer': '3'}\n",
      "{'oid': 46838370, 'qid': 'easy-airbnb-0044', 'question': 'What is the minimum number of nights of Great Value! Private room in the northeast bronx (id: 46838370) in Wakefield?', 'answer': '2'}\n",
      "{'oid': 7688032, 'qid': 'easy-airbnb-0045', 'question': \"What is the minimum number of nights of UNBEATABLE LOCATION/TIMES SQUARE! (id: 7688032) in Hell's Kitchen?\", 'answer': '2'}\n",
      "{'oid': 37155999, 'qid': 'easy-airbnb-0046', 'question': 'What is the minimum number of nights of Private Queen Suite Times SQ, Boutique Hotel (id: 37155999) in Theater District?', 'answer': '1'}\n",
      "{'oid': 46128664, 'qid': 'easy-airbnb-0047', 'question': 'What is the minimum number of nights of Cozy Zen-like Jungle in Bushwick (id: 46128664) in Bushwick?', 'answer': '1'}\n",
      "{'oid': 28984720, 'qid': 'easy-airbnb-0048', 'question': 'What is the minimum number of nights of Bright & Modern Oasis near City/Trains/Hospitals (id: 28984720) in Bedford-Stuyvesant?', 'answer': '2'}\n",
      "{'oid': 3882133, 'qid': 'easy-airbnb-0049', 'question': 'What is the minimum number of nights of 2BR Apt with huge outdoor space (id: 3882133) in Bedford-Stuyvesant?', 'answer': '7'}\n",
      "{'oid': 7606844, 'qid': 'easy-airbnb-0050', 'question': 'When was of Bedroom for two near St Marks (id: 7606844) in East Village constructed?', 'answer': '2016'}\n",
      "{'oid': 37682341, 'qid': 'easy-airbnb-0051', 'question': 'When was of Lovely one-bedroom in Hamilton Heights (id: 37682341) in Harlem constructed?', 'answer': '2021'}\n",
      "{'oid': 42280238, 'qid': 'easy-airbnb-0052', 'question': 'When was of Great room great view /10min to heart of NYC (id: 42280238) in Maspeth constructed?', 'answer': '2016'}\n",
      "{'oid': 5300439, 'qid': 'easy-airbnb-0053', 'question': 'When was of Spacious & Sunny Near McCarren Park (id: 5300439) in Greenpoint constructed?', 'answer': '2022'}\n",
      "{'oid': 50397943, 'qid': 'easy-airbnb-0054', 'question': 'When was of Jefferson Estates (id: 50397943) in Bedford-Stuyvesant constructed?', 'answer': '2012'}\n",
      "{'oid': 18658919, 'qid': 'easy-airbnb-0055', 'question': 'When was of VERY BIG APARTMENT IN HARLEM/ENTIRE APARTMENT (id: 18658919) in Harlem constructed?', 'answer': '2022'}\n",
      "{'oid': 31968245, 'qid': 'easy-airbnb-0056', 'question': 'When was of Sun Soaked & Sustainable Studio, Williamsburg (id: 31968245) in Williamsburg constructed?', 'answer': '2020'}\n",
      "{'oid': 6376872, 'qid': 'easy-airbnb-0057', 'question': 'When was of Bushwick Artist Haven w Private Yard by JMZ subway (id: 6376872) in Bushwick constructed?', 'answer': '2021'}\n",
      "{'oid': 45817167, 'qid': 'easy-airbnb-0058', 'question': 'When was of Charming Newly Renovated Brownstone (id: 45817167) in Crown Heights constructed?', 'answer': '2016'}\n",
      "{'oid': 48044593, 'qid': 'easy-airbnb-0059', 'question': 'When was of Cozy Doorman! On Broadway!Gym 5111 (id: 48044593) in Upper West Side constructed?', 'answer': '2008'}\n",
      "{'oid': 8361838, 'qid': 'easy-airbnb-0060', 'question': 'How many reviews does Open Room in Luxury Apartment (id: 8361838) in Financial District have?', 'answer': '0'}\n",
      "{'oid': 6697206, 'qid': 'easy-airbnb-0061', 'question': 'How many reviews does Bright Comfy Studio! (id: 6697206) in Upper West Side have?', 'answer': '8'}\n",
      "{'oid': 7161138, 'qid': 'easy-airbnb-0062', 'question': \"How many reviews does Brooklyn's Coolest One Bedroom (id: 7161138) in Williamsburg have?\", 'answer': '23'}\n",
      "{'oid': 43489775, 'qid': 'easy-airbnb-0063', 'question': \"How many reviews does Luxury NYC 1 Bed w/Gorgeous Views + Pool (id: 43489775) in Hell's Kitchen have?\", 'answer': '4'}\n",
      "{'oid': 36181741, 'qid': 'easy-airbnb-0064', 'question': 'How many reviews does Chic Upper West Side 1BR w/ Doorman near Central Park by Blueground (id: 36181741) in Upper West Side have?', 'answer': '1'}\n",
      "{'oid': 19798867, 'qid': 'easy-airbnb-0065', 'question': 'How many reviews does Brooklyn [Williamsburg] Apartment (id: 19798867) in Williamsburg have?', 'answer': '6'}\n",
      "{'oid': 50386897, 'qid': 'easy-airbnb-0066', 'question': 'How many reviews does Spacious and Homey 2 bedroom, Express Subway Stop (id: 50386897) in Crown Heights have?', 'answer': '7'}\n",
      "{'oid': 18745630, 'qid': 'easy-airbnb-0067', 'question': 'How many reviews does Prime Williamsburg Apt steps from Bedford Ave (id: 18745630) in Williamsburg have?', 'answer': '0'}\n",
      "{'oid': 7209740, 'qid': 'easy-airbnb-0068', 'question': 'How many reviews does West Village 2 Bed/2 Bath Loft Apt! (id: 7209740) in West Village have?', 'answer': '2'}\n",
      "{'oid': 16598840, 'qid': 'easy-airbnb-0069', 'question': 'How many reviews does Comfortable studio duplex with a Queen size Casper mattress. A 15-minute walk to Union Square and a two-block walk to the subway. Beautiful light in the morning. (id: 16598840) in Gramercy have?', 'answer': '4'}\n",
      "{'oid': 11197346, 'qid': 'easy-airbnb-0070', 'question': 'What is the last review date of Designer Studio in the Heart of Harlem (id: 11197346) in Harlem?', 'answer': '5/18/2019'}\n",
      "{'oid': 24273049, 'qid': 'easy-airbnb-0071', 'question': 'What is the last review date of Cozy Greenpoint one bedroom apartment (id: 24273049) in Greenpoint?', 'answer': '6/25/2019'}\n",
      "{'oid': 36803631, 'qid': 'easy-airbnb-0072', 'question': 'What is the last review date of WELCOME HOME 15 MINUTES  TO MANHATTAN  BOOK TODAY (id: 36803631) in Longwood?', 'answer': '7/30/2021'}\n",
      "{'oid': 53336732, 'qid': 'easy-airbnb-0073', 'question': 'What is the last review date of 2 BEDROOM APT-walk to CENTRAL PARK and restaurants (id: 53336732) in East Harlem?', 'answer': '6/20/2019'}\n",
      "{'oid': 43442830, 'qid': 'easy-airbnb-0074', 'question': 'What is the last review date of Cozy Bushwick room w/  balcony, Longterm avail.! (id: 43442830) in Bushwick?', 'answer': '6/1/2019'}\n",
      "{'oid': 41597043, 'qid': 'easy-airbnb-0075', 'question': 'What is the last review date of Private room in a huge Red Hook loft (id: 41597043) in Red Hook?', 'answer': '10/21/2018'}\n",
      "{'oid': 56896858, 'qid': 'easy-airbnb-0076', 'question': 'What is the last review date of Centrally Located, Large, Clean, Private Bedroom (id: 56896858) in West Village?', 'answer': nan}\n",
      "{'oid': 36708636, 'qid': 'easy-airbnb-0077', 'question': 'What is the last review date of The Evelyn, Superior 1 Queen Bed (id: 36708636) in Midtown?', 'answer': '8/4/2021'}\n",
      "{'oid': 53537769, 'qid': 'easy-airbnb-0078', 'question': 'What is the last review date of Close to Manhattan and 5 minutes to LGA (id: 53537769) in East Elmhurst?', 'answer': '4/11/2019'}\n",
      "{'oid': 10017081, 'qid': 'easy-airbnb-0079', 'question': \"What is the last review date of Studio in Midtown West (id: 10017081) in Hell's Kitchen?\", 'answer': '5/1/2019'}\n",
      "{'oid': 17156111, 'qid': 'easy-airbnb-0080', 'question': 'What is the review rate number of 1 Bedroom Apartment in Tribeca (id: 17156111) in Tribeca?', 'answer': '4.0'}\n",
      "{'oid': 50642612, 'qid': 'easy-airbnb-0081', 'question': 'What is the review rate number of Spacious 1 Bedroom Apt in the heart of Harlem (id: 50642612) in Harlem?', 'answer': '1.0'}\n",
      "{'oid': 44590509, 'qid': 'easy-airbnb-0082', 'question': 'What is the review rate number of Homey funky eclectic rich of arts (id: 44590509) in Crown Heights?', 'answer': '2.0'}\n",
      "{'oid': 46453969, 'qid': 'easy-airbnb-0083', 'question': 'What is the review rate number of 1 BEDROOM CENTRAL PARK / BALCONY /COLUMBUS CIRCLE (id: 46453969) in Upper West Side?', 'answer': '2.0'}\n",
      "{'oid': 13430848, 'qid': 'easy-airbnb-0084', 'question': 'What is the review rate number of BRIGHT SHABBY CHIC FLOOR THRU (id: 13430848) in Harlem?', 'answer': '4.0'}\n",
      "{'oid': 6701624, 'qid': 'easy-airbnb-0085', 'question': 'What is the review rate number of Clean Cozy & Comfy Apartment! (id: 6701624) in Gramercy?', 'answer': '3.0'}\n",
      "{'oid': 29250376, 'qid': 'easy-airbnb-0086', 'question': 'What is the review rate number of Carriage House Too (2) (id: 29250376) in Clinton Hill?', 'answer': '5.0'}\n",
      "{'oid': 30636097, 'qid': 'easy-airbnb-0087', 'question': 'What is the review rate number of Noble House #2 (id: 30636097) in Greenpoint?', 'answer': '2.0'}\n",
      "{'oid': 54050303, 'qid': 'easy-airbnb-0088', 'question': \"What is the review rate number of Stunning 1 Bedroom 2 Bathroom in Midtown (id: 54050303) in Hell's Kitchen?\", 'answer': '4.0'}\n",
      "{'oid': 37394040, 'qid': 'easy-airbnb-0089', 'question': 'What is the review rate number of Pre-war 1BR steps from Central Park w/ 75” TV (id: 37394040) in Upper East Side?', 'answer': '2.0'}\n",
      "{'oid': 53867492, 'qid': 'easy-airbnb-0090', 'question': 'What is the average number of reviews per month of Brand new space ! ... safe, peaceful and relaxing. (id: 53867492) in Washington Heights?', 'answer': '0.79'}\n",
      "{'oid': 21119968, 'qid': 'easy-airbnb-0091', 'question': 'What is the average number of reviews per month of Cozy 2 Bedroom Home (id: 21119968) in East New York?', 'answer': '1.66'}\n",
      "{'oid': 11679504, 'qid': 'easy-airbnb-0092', 'question': 'What is the average number of reviews per month of Cozy and spacious room with private bathroom (id: 11679504) in Flatbush?', 'answer': '2.08'}\n",
      "{'oid': 47579557, 'qid': 'easy-airbnb-0093', 'question': 'What is the average number of reviews per month of Light filled room in hip Gowanus (id: 47579557) in Gowanus?', 'answer': '0.02'}\n",
      "{'oid': 19341562, 'qid': 'easy-airbnb-0094', 'question': 'What is the average number of reviews per month of Suite Monroe (id: 19341562) in Bedford-Stuyvesant?', 'answer': '2.26'}\n",
      "{'oid': 14718811, 'qid': 'easy-airbnb-0095', 'question': 'What is the average number of reviews per month of Cool Studio in Brooklyn (id: 14718811) in Bedford-Stuyvesant?', 'answer': '0.17'}\n",
      "{'oid': 25651590, 'qid': 'easy-airbnb-0096', 'question': 'What is the average number of reviews per month of Renovated Apartment in Brooklyn - Steps to G Train (id: 25651590) in Bedford-Stuyvesant?', 'answer': '1.0'}\n",
      "{'oid': 47436511, 'qid': 'easy-airbnb-0097', 'question': 'What is the average number of reviews per month of Private room in two fl apartment (id: 47436511) in Bushwick?', 'answer': 'nan'}\n",
      "{'oid': 20088824, 'qid': 'easy-airbnb-0098', 'question': 'What is the average number of reviews per month of Modern Staten Island Townhouse- Welcome home! (id: 20088824) in Randall Manor?', 'answer': '3.45'}\n",
      "{'oid': 43266646, 'qid': 'easy-airbnb-0099', 'question': 'What is the average number of reviews per month of A home away from home in the heart of the UES:) (id: 43266646) in Upper East Side?', 'answer': '0.05'}\n"
     ]
    }
   ],
   "source": [
    "data_path = Path(os.getcwd()).parent.parent / \"data\"\n",
    "with jsonlines.open(data_path / \"questions\" / \"easy\" / \"airbnb-easy.jsonl\", mode='w') as writer:\n",
    "    for row in questions:\n",
    "        writer.write(row)"
   ]
  },
  {
   "cell_type": "code",
   "execution_count": null,
   "metadata": {},
   "outputs": [],
   "source": []
  }
 ],
 "metadata": {
  "kernelspec": {
   "display_name": "llm",
   "language": "python",
   "name": "python3"
  },
  "language_info": {
   "codemirror_mode": {
    "name": "ipython",
    "version": 3
   },
   "file_extension": ".py",
   "mimetype": "text/x-python",
   "name": "python",
   "nbconvert_exporter": "python",
   "pygments_lexer": "ipython3",
   "version": "3.10.7"
  },
  "orig_nbformat": 4
 },
 "nbformat": 4,
 "nbformat_minor": 2
}
